{
 "cells": [
  {
   "cell_type": "markdown",
   "metadata": {},
   "source": [
    "# Funzione di Fibonacci\n",
    "\n",
    "## Obiettivo: \n",
    "\n",
    "Creare una funzione che riceva tramite lo standard input due valori numerici “start” e “steps”. La funzione deve restituire nello standard output un vettore di lunghezza pari a “steps”, il cui primo elemento corrisponda a “start” e ogni valore successivo sia uguale alla somma dei due valori precedenti, emulando la serie di Fibonacci (1,1,2,3,5,8,13,21,…) a partire però dal valore arbitrario “start”.\n",
    "\n",
    "Ad esempio se faccio fibonacci(start=2,steps=7) devo ottenere: [2,2,4,6,10,16,26]"
   ]
  },
  {
   "cell_type": "code",
   "execution_count": 91,
   "metadata": {},
   "outputs": [],
   "source": [
    "def fibonacci(start,steps):\n",
    "    if steps<=0:\n",
    "        print(\"Steps deve essere maggiore di 0\")\n",
    "        return\n",
    "    if type(steps)!=type(5):\n",
    "        print(\"Steps deve essere un numero intero\")\n",
    "        return\n",
    "    if type(start)!=type(5) and type(start)!=type(5.2):\n",
    "        print(\"Start deve essere numerico\")\n",
    "        return\n",
    "    if steps==1:\n",
    "        print([start])\n",
    "        return\n",
    "    if steps==2:\n",
    "        print([start,start])\n",
    "        return\n",
    "    risultato=[start,start]\n",
    "    for j in range(2,steps):\n",
    "        risultato.append(sum((risultato[j-2],risultato[j-1])))\n",
    "    print(risultato)"
   ]
  },
  {
   "cell_type": "code",
   "execution_count": 99,
   "metadata": {},
   "outputs": [
    {
     "name": "stdout",
     "output_type": "stream",
     "text": [
      "[2, 2, 4, 6, 10, 16, 26]\n"
     ]
    }
   ],
   "source": [
    "fibonacci(start=2,steps=7)"
   ]
  },
  {
   "cell_type": "code",
   "execution_count": null,
   "metadata": {},
   "outputs": [],
   "source": []
  }
 ],
 "metadata": {
  "kernelspec": {
   "display_name": "Python 3",
   "language": "python",
   "name": "python3"
  },
  "language_info": {
   "codemirror_mode": {
    "name": "ipython",
    "version": 3
   },
   "file_extension": ".py",
   "mimetype": "text/x-python",
   "name": "python",
   "nbconvert_exporter": "python",
   "pygments_lexer": "ipython3",
   "version": "3.7.3"
  }
 },
 "nbformat": 4,
 "nbformat_minor": 2
}
